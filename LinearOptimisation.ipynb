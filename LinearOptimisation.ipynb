{
 "cells": [
  {
   "cell_type": "markdown",
   "id": "39b52fb0",
   "metadata": {},
   "source": [
    "# Linear Optimisation"
   ]
  },
  {
   "cell_type": "markdown",
   "id": "d70c71ad",
   "metadata": {},
   "source": [
    "###### Problem:\n",
    "Find optimal allocation of adv pages for 4 companies listed in order to maximise revenue simultaneously meeting all the advertisement contract requirements."
   ]
  },
  {
   "cell_type": "markdown",
   "id": "b5eb6597",
   "metadata": {},
   "source": [
    "**Variables**  \n",
    "x1 - views Sports of company GEICO  \n",
    "x2 - views Sports of company Delta  \n",
    "x3 - views Sports of company T-Mobile   \n",
    "x4 - views Sports of company Capital One  \n",
    "\n",
    "y1 - views National of company GEICO  \n",
    "y2 - views National of company Delta  \n",
    "y3 - views National of company T-Mobile   \n",
    "y4 - views National of company Capital One   \n",
    "\n",
    "**Objective Function:**  \n",
    "(0.025*x1 + 0.02*x2 + 0.01*x3 + 0.015*x4 + 0.008*y1 + 0.01*y2 + 0.03*y3 + 0.02*y4) -> max(x1,x2,x3,x4,y1,y2,y3,y4)  \n",
    "Interpretation:  \n",
    "Maximise CTR times number of views to get the optimal total number of clicks\n",
    "\n",
    "**Constraints:**   \n",
    "1) x1+x2+x3+x4 <= 6  \n",
    "2) y1+y2+y3+y4 <= 5  \n",
    "3) x1 >= 2  \n",
    "4) x3 >= 1  \n",
    "5) y1 >= 1  \n",
    "6) y2 >= 1  \n",
    "7) y3 >= 1  \n",
    "8) x2+y2 >= 2  \n",
    "9) x3+y3 >= 3  \n",
    "10) x4+y4 >= 2  "
   ]
  },
  {
   "cell_type": "code",
   "execution_count": 1,
   "id": "290be2e6",
   "metadata": {},
   "outputs": [
    {
     "name": "stdout",
     "output_type": "stream",
     "text": [
      "Set parameter Username\n",
      "Academic license - for non-commercial use only - expires 2022-06-10\n"
     ]
    }
   ],
   "source": [
    "import gurobipy as gp\n",
    "from gurobipy import GRB\n",
    "import pandas as pd\n",
    "import matplotlib.pyplot as plt\n",
    "optimal = gp.Model(\"hw1\")\n",
    "optimal.setParam('OutputFlag', False)"
   ]
  },
  {
   "cell_type": "code",
   "execution_count": 2,
   "id": "524911b7",
   "metadata": {},
   "outputs": [
    {
     "name": "stdout",
     "output_type": "stream",
     "text": [
      "objective: 0.218\n",
      "---------------------------\n",
      "x1: 3\n",
      "x2: 1\n",
      "x3: 1\n",
      "x4: 1\n",
      "y1: 1\n",
      "y2: 1\n",
      "y3: 2\n",
      "y4: 1\n"
     ]
    }
   ],
   "source": [
    "# adding the variables \n",
    "x1 = optimal.addVar(lb = 0,ub = GRB.INFINITY,vtype = GRB.CONTINUOUS,name=\"x1\") \n",
    "x2 = optimal.addVar(lb = 0,ub = GRB.INFINITY,vtype = GRB.CONTINUOUS,name=\"x2\")\n",
    "x3 = optimal.addVar(lb = 0,ub = GRB.INFINITY,vtype = GRB.CONTINUOUS,name=\"x3\")\n",
    "x4 = optimal.addVar(lb = 0,ub = GRB.INFINITY,vtype = GRB.CONTINUOUS,name=\"x4\") \n",
    "y1 = optimal.addVar(lb = 0,ub = GRB.INFINITY,vtype = GRB.CONTINUOUS,name=\"y1\")\n",
    "y2 = optimal.addVar(lb = 0,ub = GRB.INFINITY,vtype = GRB.CONTINUOUS,name=\"y2\") \n",
    "y3 = optimal.addVar(lb = 0,ub = GRB.INFINITY,vtype = GRB.CONTINUOUS,name=\"y3\")\n",
    "y4 = optimal.addVar(lb = 0,ub = GRB.INFINITY,vtype = GRB.CONTINUOUS,name=\"y4\") \n",
    "\n",
    "\n",
    "# adding the constraints\n",
    "optimal.addConstr(x1+x2+x3+x4 <= 6, 'cons1')\n",
    "optimal.addConstr(y1+y2+y3+y4 <= 5, 'cons2')\n",
    "optimal.addConstr(x1 >= 2, 'cons3')\n",
    "optimal.addConstr(x3 >= 1, 'cons4')\n",
    "optimal.addConstr(y1 >= 1, 'cons5')\n",
    "optimal.addConstr(y2 >= 1, 'cons6')\n",
    "optimal.addConstr(y3 >= 1, 'cons7')\n",
    "optimal.addConstr(x2+y2 >= 2, 'cons8')\n",
    "optimal.addConstr(x3+y3 >= 3, 'cons9')\n",
    "optimal.addConstr(x4+y4 >= 2, 'cons10')\n",
    "\n",
    "# adding the objective functions\n",
    "objective = 0.025*x1 + 0.02*x2 + 0.01*x3 + 0.015*x4 + 0.008*y1 + 0.01*y2 + 0.03*y3 + 0.02*y4\n",
    "\n",
    "# solve\n",
    "optimal.setObjective(objective,GRB.MAXIMIZE)\n",
    "optimal.optimize()\n",
    "\n",
    "# print the solution\n",
    "print('objective:',optimal.ObjVal)\n",
    "print(\"---------------------------\")\n",
    "for v in optimal.getVars():\n",
    "    print('%s: %g' % (v.VarName, v.x))\n"
   ]
  },
  {
   "cell_type": "markdown",
   "id": "7b1251e2",
   "metadata": {},
   "source": [
    "Objective function maximized: 0.218\n",
    "---------------------------\n",
    "x1: 3  \n",
    "x2: 1  \n",
    "x3: 1  \n",
    "x4: 1  \n",
    "y1: 1  \n",
    "y2: 1  \n",
    "y3: 2  \n",
    "y4: 1  \n",
    "\n",
    "### Revenue = 0.218 x 2.4 x 1000000 = $523,200"
   ]
  }
 ],
 "metadata": {
  "kernelspec": {
   "display_name": "Python 3 (ipykernel)",
   "language": "python",
   "name": "python3"
  },
  "language_info": {
   "codemirror_mode": {
    "name": "ipython",
    "version": 3
   },
   "file_extension": ".py",
   "mimetype": "text/x-python",
   "name": "python",
   "nbconvert_exporter": "python",
   "pygments_lexer": "ipython3",
   "version": "3.8.5"
  }
 },
 "nbformat": 4,
 "nbformat_minor": 5
}
